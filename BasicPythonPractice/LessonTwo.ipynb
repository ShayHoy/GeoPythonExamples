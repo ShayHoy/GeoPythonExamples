{
 "cells": [
  {
   "cell_type": "code",
   "execution_count": 2,
   "metadata": {
    "collapsed": true
   },
   "outputs": [
    {
     "data": {
      "text/plain": [
       "geopandas.geodataframe.GeoDataFrame"
      ]
     },
     "execution_count": 2,
     "metadata": {},
     "output_type": "execute_result"
    }
   ],
   "source": [
    "''' \n",
    "\n",
    "    Lesson Two\n",
    "    Automating GIS Processing in Python\n",
    "    https://automating-gis-processes.github.io/2016/Lesson1-Geometric-Objects.html\n",
    "    \n",
    "    Focus: Learning how to read and write spatial data in Python using Geopandas\n",
    "'''\n",
    "\n",
    "%matplotlib inline \n",
    "# import necessary modules\n",
    "import geopandas as gpd\n",
    "\n",
    "# set file path\n",
    "fp = '/home/mapper/Documents/Python/GeoPythonExamples/Data/DAMSELFISH_distributions.shp'\n",
    "\n",
    "# Read the file using gpd.read_file()\n",
    "data = gpd.read_file(fp)\n",
    "type(data)\n"
   ]
  },
  {
   "cell_type": "code",
   "execution_count": 3,
   "metadata": {},
   "outputs": [
    {
     "name": "stdout",
     "output_type": "stream",
     "text": [
      "      id_no             binomial  origin compiler  year  \\\n0  183963.0   Stegastes leucorus       1     IUCN  2010   \n1  183963.0   Stegastes leucorus       1     IUCN  2010   \n2  183963.0   Stegastes leucorus       1     IUCN  2010   \n3  183793.0  Chromis intercrusma       1     IUCN  2010   \n4  183793.0  Chromis intercrusma       1     IUCN  2010   \n\n                                            citation source dist_comm island  \\\n0  International Union for Conservation of Nature...                           \n1  International Union for Conservation of Nature...                           \n2  International Union for Conservation of Nature...                           \n3  International Union for Conservation of Nature...                           \n4  International Union for Conservation of Nature...                           \n\n  subspecies                        ...                         rl_update  \\\n0                                   ...                            2012.1   \n1                                   ...                            2012.1   \n2                                   ...                            2012.1   \n3                                   ...                            2012.1   \n4                                   ...                            2012.1   \n\n  kingdom_na  phylum_nam      class_name   order_name     family_nam  \\\n0   ANIMALIA    CHORDATA  ACTINOPTERYGII  PERCIFORMES  POMACENTRIDAE   \n1   ANIMALIA    CHORDATA  ACTINOPTERYGII  PERCIFORMES  POMACENTRIDAE   \n2   ANIMALIA    CHORDATA  ACTINOPTERYGII  PERCIFORMES  POMACENTRIDAE   \n3   ANIMALIA    CHORDATA  ACTINOPTERYGII  PERCIFORMES  POMACENTRIDAE   \n4   ANIMALIA    CHORDATA  ACTINOPTERYGII  PERCIFORMES  POMACENTRIDAE   \n\n  genus_name   species_na category  \\\n0  Stegastes     leucorus       VU   \n1  Stegastes     leucorus       VU   \n2  Stegastes     leucorus       VU   \n3    Chromis  intercrusma       LC   \n4    Chromis  intercrusma       LC   \n\n                                            geometry  \n0  POLYGON ((-115.6437454219999 29.71392059300007...  \n1  POLYGON ((-105.589950704 21.89339825500002, -1...  \n2  POLYGON ((-111.159618439 19.01535626700007, -1...  \n3  POLYGON ((-80.86500229899997 -0.77894492099994...  \n4  POLYGON ((-67.33922225599997 -55.6761029239999...  \n\n[5 rows x 24 columns]\n"
     ]
    }
   ],
   "source": [
    "print(data.head())"
   ]
  },
  {
   "cell_type": "code",
   "execution_count": 4,
   "metadata": {
    "collapsed": true
   },
   "outputs": [
    {
     "data": {
      "image/png": "[encoded data removed]",
      "text/plain": [
       "<matplotlib.figure.Figure at 0x7f871452c7b8>"
      ]
     },
     "metadata": {},
     "output_type": "display_data"
    }
   ],
   "source": [
    "data.plot();"
   ]
  },
  {
   "cell_type": "code",
   "execution_count": 5,
   "metadata": {},
   "outputs": [
    {
     "data": {
      "text/plain": [
       "{'init': 'epsg:4326'}"
      ]
     },
     "execution_count": 5,
     "metadata": {},
     "output_type": "execute_result"
    }
   ],
   "source": [
    "# read the coordinate system\n",
    "data.crs"
   ]
  },
  {
   "cell_type": "code",
   "execution_count": 6,
   "metadata": {},
   "outputs": [],
   "source": [
    "# write a shapefile\n",
    "\n",
    "# create an output path for the data\n",
    "out = r\"/home/mapper/Documents/Python/GeoPythonExamples/Data/DAMSELFISH_distributions_SELECTION.shp\"\n",
    "\n",
    "# select the first 50 rows\n",
    "selection = data[:50]\n",
    "\n",
    "# Write the selected rows into a new shapefile (default format = shapefile)\n",
    "selection.to_file(out)\n"
   ]
  },
  {
   "cell_type": "code",
   "execution_count": 49,
   "metadata": {},
   "outputs": [
    {
     "data": {
      "text/plain": [
       "50"
      ]
     },
     "execution_count": 49,
     "metadata": {},
     "output_type": "execute_result"
    },
    {
     "data": {
      "image/png": "[encoded data removed]",
      "text/plain": [
       "<matplotlib.figure.Figure at 0x7f863834c518>"
      ]
     },
     "metadata": {},
     "output_type": "display_data"
    }
   ],
   "source": [
    "fp2 = \"/home/mapper/Documents/Python/GeoPythonExamples/Data/DAMSELFISH_distributions_SELECTION.shp\"\n",
    "data2 = gpd.read_file(fp2)\n",
    "data2.plot();\n",
    "len(data2.index)"
   ]
  },
  {
   "cell_type": "code",
   "execution_count": 7,
   "metadata": {},
   "outputs": [
    {
     "data": {
      "text/plain": [
       "0    POLYGON ((-115.6437454219999 29.71392059300007...\n1    POLYGON ((-105.589950704 21.89339825500002, -1...\n2    POLYGON ((-111.159618439 19.01535626700007, -1...\n3    POLYGON ((-80.86500229899997 -0.77894492099994...\n4    POLYGON ((-67.33922225599997 -55.6761029239999...\nName: geometry, dtype: object"
      ]
     },
     "execution_count": 7,
     "metadata": {},
     "output_type": "execute_result"
    }
   ],
   "source": [
    "# Geometries in Geopandas\n",
    "data['geometry'].head()"
   ]
  },
  {
   "cell_type": "code",
   "execution_count": 8,
   "metadata": {},
   "outputs": [
    {
     "name": "stdout",
     "output_type": "stream",
     "text": [
      "Polygon area at index 0 is: 19.396\nPolygon area at index 1 is: 6.146\nPolygon area at index 2 is: 2.697\nPolygon area at index 3 is: 87.461\nPolygon area at index 4 is: 0.001\n"
     ]
    }
   ],
   "source": [
    "# select the first 5 rows\n",
    "selectFive = data[:5]\n",
    "\n",
    "# iterate over the selected rows using a specific .iterrows() function in geopandas \n",
    "\n",
    "for index, row in selectFive.iterrows():\n",
    "    poly_area = row['geometry'].area\n",
    "    print('Polygon area at index {0} is: {1:.3f}'.format(index, poly_area))\n"
   ]
  },
  {
   "cell_type": "code",
   "execution_count": 9,
   "metadata": {},
   "outputs": [],
   "source": [
    "# empty column for area\n",
    "data['area'] = None"
   ]
  },
  {
   "cell_type": "code",
   "execution_count": 10,
   "metadata": {},
   "outputs": [],
   "source": [
    "for index, row in data.iterrows():\n",
    "    data.loc[index, 'area'] = row['geometry'].area    "
   ]
  },
  {
   "cell_type": "code",
   "execution_count": 11,
   "metadata": {},
   "outputs": [
    {
     "data": {
      "text/plain": [
       "0    19.3963\n1     6.1459\nName: area, dtype: object"
      ]
     },
     "execution_count": 11,
     "metadata": {},
     "output_type": "execute_result"
    }
   ],
   "source": [
    "data.loc[:1, 'area']\n",
    "data['area'].head(2)"
   ]
  },
  {
   "cell_type": "code",
   "execution_count": 12,
   "metadata": {},
   "outputs": [
    {
     "name": "stdout",
     "output_type": "stream",
     "text": [
      "Max area: 1493.2\nMin area: 0.0\n"
     ]
    }
   ],
   "source": [
    "# find the maximum area\n",
    "\n",
    "max_area = data['area'].max()\n",
    "min_area = data['area'].min()\n",
    "\n",
    "print('Max area: %s\\nMin area: %s' % (round(max_area, 2), round(min_area, 2)))"
   ]
  },
  {
   "cell_type": "code",
   "execution_count": 13,
   "metadata": {},
   "outputs": [],
   "source": [
    "# Creating Geometries into a GeoDataFrame - easy to convert a text file that contains coordinates into a shapefile\n",
    "\n",
    "# import necessary modules\n",
    "\n",
    "import pandas as pd\n",
    "from shapely.geometry import Point, Polygon\n",
    "import fiona\n",
    "\n"
   ]
  },
  {
   "cell_type": "code",
   "execution_count": 14,
   "metadata": {},
   "outputs": [],
   "source": [
    "# Create and empty geopandas GeoDataFrame\n",
    "\n",
    "newdata = gpd.GeoDataFrame()\n"
   ]
  },
  {
   "cell_type": "code",
   "execution_count": 15,
   "metadata": {},
   "outputs": [
    {
     "data": {
      "text/html": [
       "<div>\n",
       "<style>\n",
       "    .dataframe thead tr:only-child th {\n",
       "        text-align: right;\n",
       "    }\n",
       "\n",
       "    .dataframe thead th {\n",
       "        text-align: left;\n",
       "    }\n",
       "\n",
       "    .dataframe tbody tr th {\n",
       "        vertical-align: top;\n",
       "    }\n",
       "</style>\n",
       "<table border=\"1\" class=\"dataframe\">\n",
       "  <thead>\n",
       "    <tr style=\"text-align: right;\">\n",
       "      <th></th>\n",
       "      <th>geometry</th>\n",
       "    </tr>\n",
       "  </thead>\n",
       "  <tbody>\n",
       "  </tbody>\n",
       "</table>\n",
       "</div>"
      ],
      "text/plain": [
       "<div>\n",
       "<style>\n",
       "    .dataframe thead tr:only-child th {\n",
       "        text-align: right;\n",
       "    }\n",
       "\n",
       "    .dataframe thead th {\n",
       "        text-align: left;\n",
       "    }\n",
       "\n",
       "    .dataframe tbody tr th {\n",
       "        vertical-align: top;\n",
       "    }\n",
       "</style>\n",
       "<table border=\"1\" class=\"dataframe\">\n",
       "  <thead>\n",
       "    <tr style=\"text-align: right;\">\n",
       "      <th></th>\n",
       "      <th>geometry</th>\n",
       "    </tr>\n",
       "  </thead>\n",
       "  <tbody>\n",
       "  </tbody>\n",
       "</table>\n",
       "</div>"
      ]
     },
     "execution_count": 15,
     "metadata": {},
     "output_type": "execute_result"
    }
   ],
   "source": [
    "newdata['geometry'] = None\n",
    "\n",
    "newdata"
   ]
  },
  {
   "cell_type": "code",
   "execution_count": 16,
   "metadata": {},
   "outputs": [
    {
     "data": {
      "text/plain": [
       "<shapely.geometry.polygon.Polygon at 0x7f86e2bcc208>"
      ]
     },
     "execution_count": 16,
     "metadata": {},
     "output_type": "execute_result"
    }
   ],
   "source": [
    "# Coordinates of the Helsinki Senate square in Decimal Degrees\n",
    "coordinates = [(24.950899, 60.169158), (24.953492, 60.169158), (24.953510, 60.170104), (24.950958, 60.169990)]\n",
    "\n",
    "# Create a Shapely polygon from the coordinate-tuple list\n",
    "poly = Polygon(coordinates)\n",
    "\n",
    "poly\n"
   ]
  },
  {
   "cell_type": "code",
   "execution_count": 17,
   "metadata": {
    "collapsed": false
   },
   "outputs": [
    {
     "name": "stdout",
     "output_type": "stream",
     "text": [
      "                                            geometry\n0  POLYGON ((24.950899 60.169158, 24.953492 60.16...\n"
     ]
    }
   ],
   "source": [
    "# Insert the polygon into 'geometry' -column at index 0\n",
    "newdata.loc[0, 'geometry'] = poly\n",
    "\n",
    "print(newdata)\n"
   ]
  },
  {
   "cell_type": "code",
   "execution_count": 18,
   "metadata": {},
   "outputs": [
    {
     "name": "stdout",
     "output_type": "stream",
     "text": [
      "                                            geometry      Location\n0  POLYGON ((24.950899 60.169158, 24.953492 60.16...  Senaatintori\n"
     ]
    }
   ],
   "source": [
    "# Add a new column and insert data\n",
    "newdata.loc[0, 'Location'] = 'Senaatintori'\n",
    "\n",
    "print(newdata)"
   ]
  },
  {
   "cell_type": "code",
   "execution_count": 19,
   "metadata": {},
   "outputs": [],
   "source": [
    "print(newdata.crs)"
   ]
  },
  {
   "cell_type": "code",
   "execution_count": 20,
   "metadata": {},
   "outputs": [],
   "source": [
    "# Import specific function 'from_epsg' from fiona module\n",
    "from fiona.crs import from_epsg\n",
    "\n",
    "# Set the GeoDataFrame's coordinate system to WGS84\n",
    "newdata.crs = from_epsg(4326)\n",
    "\n",
    "newdata.crs"
   ]
  },
  {
   "cell_type": "code",
   "execution_count": 21,
   "metadata": {},
   "outputs": [],
   "source": [
    "# Determine the output path for the Shapefile\n",
    "outfp = r\"/home/mapper/Documents/Python/GeoPythonExamples/Data/Senaatintori.shp\"\n",
    "\n",
    "# Write the data into that Shapefile\n",
    "newdata.to_file(outfp)"
   ]
  },
  {
   "cell_type": "code",
   "execution_count": 22,
   "metadata": {},
   "outputs": [],
   "source": []
  },
  {
   "cell_type": "code",
   "execution_count": 22,
   "metadata": {},
   "outputs": [],
   "source": []
  },
  {
   "cell_type": "code",
   "execution_count": null,
   "metadata": {},
   "outputs": [],
   "source": []
  }
 ],
 "metadata": {
  "kernelspec": {
   "display_name": "Python 2",
   "language": "python",
   "name": "python2"
  },
  "language_info": {
   "codemirror_mode": {
    "name": "ipython",
    "version": 2
   },
   "file_extension": ".py",
   "mimetype": "text/x-python",
   "name": "python",
   "nbconvert_exporter": "python",
   "pygments_lexer": "ipython2",
   "version": "2.7.6"
  }
 },
 "nbformat": 4,
 "nbformat_minor": 0
}
