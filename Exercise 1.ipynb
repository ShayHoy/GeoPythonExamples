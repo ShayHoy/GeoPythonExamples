{
 "cells": [
  {
   "cell_type": "code",
   "execution_count": 2,
   "metadata": {
    "collapsed": true
   },
   "outputs": [
    {
     "name": "stdout",
     "output_type": "stream",
     "text": [
      "POINT (2.2 4.4)\n<class 'shapely.geometry.point.Point'>\n"
     ]
    }
   ],
   "source": [
    "# import necessary packages\n",
    "from shapely.geometry import Point, LineString, Polygon\n"
   ]
  },
  {
   "cell_type": "code",
   "execution_count": 3,
   "metadata": {
    "collapsed": true
   },
   "outputs": [
    {
     "name": "stdout",
     "output_type": "stream",
     "text": [
      "POINT (2.2 4.4)\n<class 'shapely.geometry.point.Point'>\n"
     ]
    }
   ],
   "source": [
    "def createPointGeom(x_coord, y_coord):\n",
    "    ''' This function takes an x and y coordinate and returns a shapely point geometry object '''\n",
    "    \n",
    "    shapelypoint = Point(x_coord, y_coord)\n",
    "    \n",
    "    return shapelypoint\n"
   ]
  },
  {
   "cell_type": "code",
   "execution_count": null,
   "metadata": {
    "collapsed": true
   },
   "outputs": [],
   "source": [
    "point1 = createPointGeom(2.2, 4.4)\n",
    "print(point1)\n",
    "print(type(point1))\n"
   ]
  },
  {
   "cell_type": "code",
   "execution_count": 10,
   "metadata": {
    "collapsed": true
   },
   "outputs": [],
   "source": [
    ""
   ]
  },
  {
   "cell_type": "code",
   "execution_count": null,
   "metadata": {},
   "outputs": [],
   "source": [
    "def createLineGeom(shapepointlist):\n",
    "    '''Takes a list of Shapely Point objects as parameter and returns a LineString object of those input points. '''\n",
    "    \n",
    "    linestring = [LineString(ar) for ar in shapepointlist]\n",
    "    \n",
    "    return linestring"
   ]
  }
 ],
 "metadata": {
  "kernelspec": {
   "display_name": "Python 2",
   "language": "python",
   "name": "python2"
  },
  "language_info": {
   "codemirror_mode": {
    "name": "ipython",
    "version": 2
   },
   "file_extension": ".py",
   "mimetype": "text/x-python",
   "name": "python",
   "nbconvert_exporter": "python",
   "pygments_lexer": "ipython2",
   "version": "2.7.6"
  }
 },
 "nbformat": 4,
 "nbformat_minor": 0
}
