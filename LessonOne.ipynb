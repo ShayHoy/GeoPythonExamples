{
 "cells": [
  {
   "cell_type": "code",
   "execution_count": 2,
   "metadata": {
    "collapsed": true
   },
   "outputs": [
    {
     "name": "stdout",
     "output_type": "stream",
     "text": [
      "POINT (2.2 4.2)\nPOINT Z (9.26 -2.456 0.57)\n<class 'shapely.geometry.point.Point'>\n"
     ]
    }
   ],
   "source": [
    "''' \n",
    "\n",
    "    Lesson One\n",
    "    Automating GIS Processing in Python\n",
    "    https://automating-gis-processes.github.io/2016/Lesson1-Geometric-Objects.html\n",
    "'''\n",
    "\n",
    "# import necessary geometric objects from shapely module\n",
    "\n",
    "from shapely.geometry import Point, LineString, Polygon\n",
    "\n",
    "# Create Point Geometric Object(s) with coordinates\n",
    "\n",
    "point1 = Point(2.2, 4.2)\n",
    "point2 = Point(7.2, -25.1)\n",
    "point3 = Point(9.26, -2.456)\n",
    "point3D = Point(9.26, -2.456, 0.57)\n",
    "\n",
    "# What is the object type of the point?\n",
    "\n",
    "print(point1)\n",
    "print(point3D)\n",
    "print(type(point1))"
   ]
  },
  {
   "cell_type": "code",
   "execution_count": 4,
   "metadata": {},
   "outputs": [
    {
     "name": "stdout",
     "output_type": "stream",
     "text": [
      "<class 'shapely.coords.CoordinateSequence'>\n"
     ]
    }
   ],
   "source": [
    "# Extract Coordinates of a Point\n",
    "\n",
    "point_coords = point1.coords\n",
    "\n",
    "# What is the type of this?\n",
    "\n",
    "print(type(point_coords))"
   ]
  },
  {
   "cell_type": "code",
   "execution_count": null,
   "metadata": {},
   "outputs": [
    {
     "name": "stdout",
     "output_type": "stream",
     "text": [
      "Convex hull of the points:  POLYGON ((7.2 -25.1, 2.2 4.2, 9.26 -2.456, 7.2 -25.1))\nNumber of lines in MultiLineString: 2\nArea of our MultiPolygon: 39200.0\nArea of our Western Hemisphere polygon: 6800.0\nIs polygon valid?:  False\n"
     ]
    }
   ],
   "source": [
    "# Get x and y coordinates\n",
    "\n",
    "xy = point_coords.xy\n",
    "\n",
    "# Get only x coordinates of point1\n",
    "x = point1.x\n",
    "\n",
    "# Get only y coordinates of point1\n",
    "y = point1.y\n",
    "\n",
    "print(xy)\n",
    "print(x)\n",
    "print(y)\n"
   ]
  },
  {
   "cell_type": "code",
   "execution_count": null,
   "metadata": {},
   "outputs": [
    {
     "name": "stdout",
     "output_type": "stream",
     "text": [
      "Convex hull of the points:  POLYGON ((7.2 -25.1, 2.2 4.2, 9.26 -2.456, 7.2 -25.1))\nNumber of lines in MultiLineString: 2\nArea of our MultiPolygon: 39200.0\nArea of our Western Hemisphere polygon: 6800.0\nIs polygon valid?:  False\n"
     ]
    }
   ],
   "source": [
    "# Calculate the distance between point1 and point2\n",
    "\n",
    "point_dist = point1.distance(point2)\n",
    "\n",
    "print(\"Distance between the points is {0:.2f} decimal degrees\".format(point_dist))\n"
   ]
  },
  {
   "cell_type": "code",
   "execution_count": 17,
   "metadata": {},
   "outputs": [
    {
     "name": "stdout",
     "output_type": "stream",
     "text": [
      "Convex hull of the points:  POLYGON ((7.2 -25.1, 2.2 4.2, 9.26 -2.456, 7.2 -25.1))\nNumber of lines in MultiLineString: 2\nArea of our MultiPolygon: 39200.0\nArea of our Western Hemisphere polygon: 6800.0\nIs polygon valid?:  False\n"
     ]
    }
   ],
   "source": [
    "# Create a LineString from our Point Objects\n",
    "\n",
    "line = LineString([point1, point2, point3])\n",
    "\n",
    "# It is also possible to use coordinate tuples having the same outcome\n",
    "line2 = LineString([(2.2, 4.2), (7.2, -25.1), (9.26, -2.456)])\n",
    "\n",
    "print(line)\n",
    "print(line2)\n",
    "type(line)\n"
   ]
  },
  {
   "cell_type": "code",
   "execution_count": 18,
   "metadata": {},
   "outputs": [
    {
     "name": "stdout",
     "output_type": "stream",
     "text": [
      "Convex hull of the points:  POLYGON ((7.2 -25.1, 2.2 4.2, 9.26 -2.456, 7.2 -25.1))\nNumber of lines in MultiLineString: 2\nArea of our MultiPolygon: 39200.0\nArea of our Western Hemisphere polygon: 6800.0\nIs polygon valid?:  False\n"
     ]
    }
   ],
   "source": [
    "# get x and y coordinates of the line\n",
    "\n",
    "lxy = line.xy\n",
    "print(lxy)\n"
   ]
  },
  {
   "cell_type": "code",
   "execution_count": 19,
   "metadata": {},
   "outputs": [
    {
     "name": "stdout",
     "output_type": "stream",
     "text": [
      "Convex hull of the points:  POLYGON ((7.2 -25.1, 2.2 4.2, 9.26 -2.456, 7.2 -25.1))\nNumber of lines in MultiLineString: 2\nArea of our MultiPolygon: 39200.0\nArea of our Western Hemisphere polygon: 6800.0\nIs polygon valid?:  False\n"
     ]
    }
   ],
   "source": [
    "# extract x coordinates\n",
    "line_x = lxy[0]\n",
    "\n",
    "# extract y coordinates\n",
    "line_y = lxy[1]\n",
    "\n",
    "print(line_x)\n",
    "print(line_y)\n"
   ]
  },
  {
   "cell_type": "code",
   "execution_count": null,
   "metadata": {},
   "outputs": [
    {
     "name": "stdout",
     "output_type": "stream",
     "text": [
      "Convex hull of the points:  POLYGON ((7.2 -25.1, 2.2 4.2, 9.26 -2.456, 7.2 -25.1))\nNumber of lines in MultiLineString: 2\nArea of our MultiPolygon: 39200.0\nArea of our Western Hemisphere polygon: 6800.0\nIs polygon valid?:  False\n"
     ]
    }
   ],
   "source": [
    "# Get length of line\n",
    "\n",
    "line_length = line.length\n",
    "print(\"The length of the our line: {0:.2f}\".format(line_length))\n",
    "\n",
    "# Get the centroid of the line\n",
    "\n",
    "line_centroid = line.centroid\n",
    "print(\"The centroid of the line: \", line.centroid)\n",
    "\n",
    "# What type is the centroid\n",
    "centroid_type = type(line_centroid)\n",
    "print(\"Type of centroid:\", centroid_type)\n"
   ]
  },
  {
   "cell_type": "code",
   "execution_count": null,
   "metadata": {},
   "outputs": [
    {
     "name": "stdout",
     "output_type": "stream",
     "text": [
      "Convex hull of the points:  POLYGON ((7.2 -25.1, 2.2 4.2, 9.26 -2.456, 7.2 -25.1))\nNumber of lines in MultiLineString: 2\nArea of our MultiPolygon: 39200.0\nArea of our Western Hemisphere polygon: 6800.0\nIs polygon valid?:  False\n"
     ]
    }
   ],
   "source": [
    "# Create a Polygon from the coordinates\n",
    "poly = Polygon([(2.2, 4.2), (7.2, -25.1), (9.26, -2.456)])\n",
    "print(poly)\n",
    "\n",
    "# We can also use our previously created Point objects (same outcome)\n",
    "# --> notice that Polygon object requires x,y coordinates as input\n",
    "poly2 = Polygon([[p.x, p.y] for p in [point1, point2, point3]])\n",
    "print(poly2)\n",
    "\n",
    "# Geometry type can be accessed as a String\n",
    "poly_type = poly.geom_type\n",
    "print(\"Geometry type as text:\", poly_type)\n",
    "\n",
    "# Using Python's type function gives the type in a different format\n",
    "poly_type2 = type(poly)\n",
    "print(\"Geometry type how python shows it:\", poly_type2)\n"
   ]
  },
  {
   "cell_type": "code",
   "execution_count": 27,
   "metadata": {},
   "outputs": [
    {
     "name": "stdout",
     "output_type": "stream",
     "text": [
      "Convex hull of the points:  POLYGON ((7.2 -25.1, 2.2 4.2, 9.26 -2.456, 7.2 -25.1))\nNumber of lines in MultiLineString: 2\nArea of our MultiPolygon: 39200.0\nArea of our Western Hemisphere polygon: 6800.0\nIs polygon valid?:  False\n"
     ]
    }
   ],
   "source": [
    "# create bounding box of the world with hole in it\n",
    "world_exterior = [(-180, 90), (-180, -90), (180, -90), (180, 90)]\n",
    "\n",
    "# create single hole where we leave ten decimal degrees at the boundary\n",
    "# --> there could be multiple holes, thus we need to provide a list of holes\n",
    "hole = [[(-170, 80), (-170, -80), (170, -80), (170, 80)]]\n",
    "\n",
    "# World without a hole\n",
    "world = Polygon(shell=world_exterior)\n",
    "\n",
    "# World with hole\n",
    "world_has_a_hole = Polygon(shell=world_exterior, holes=hole)\n",
    "\n",
    "print(world)\n",
    "print(world_has_a_hole)\n",
    "type(world_has_a_hole)\n"
   ]
  },
  {
   "cell_type": "code",
   "execution_count": null,
   "metadata": {},
   "outputs": [
    {
     "name": "stdout",
     "output_type": "stream",
     "text": [
      "Convex hull of the points:  POLYGON ((7.2 -25.1, 2.2 4.2, 9.26 -2.456, 7.2 -25.1))\nNumber of lines in MultiLineString: 2\nArea of our MultiPolygon: 39200.0\nArea of our Western Hemisphere polygon: 6800.0\nIs polygon valid?:  False\n"
     ]
    }
   ],
   "source": [
    "# Get the centroid of the Polygon\n",
    "world_centroid = world.centroid\n",
    "print(\"Poly Centroid: \", world_centroid)\n",
    "\n",
    "# Get the area of the Polygon\n",
    "world_area = world.area\n",
    "print(\"Poly Area: \", world_area)\n",
    "\n",
    "# Get the bounds of Polygon (i.e. bounding box)\n",
    "world_bbox = world.bounds\n",
    "print(\"Poly Bounding Box: \", world_bbox)\n",
    "\n",
    "# Get the exterior of the Polygon\n",
    "world_ext = world.exterior\n",
    "print(\"Poly Exterior: \", world_ext)\n",
    "\n",
    "# Get the length of the exterior\n",
    "world_ext_length = world_ext.length\n",
    "print(\"Poly Exterior Length: \", world_ext_length)\n"
   ]
  },
  {
   "cell_type": "code",
   "execution_count": null,
   "metadata": {},
   "outputs": [
    {
     "name": "stdout",
     "output_type": "stream",
     "text": [
      "Convex hull of the points:  POLYGON ((7.2 -25.1, 2.2 4.2, 9.26 -2.456, 7.2 -25.1))\nNumber of lines in MultiLineString: 2\nArea of our MultiPolygon: 39200.0\nArea of our Western Hemisphere polygon: 6800.0\nIs polygon valid?:  False\n"
     ]
    }
   ],
   "source": [
    "# import collections of geometric objects + bounding box\n",
    "from shapely.geometry import MultiLineString, MultiPoint, MultiPolygon, box\n",
    "\n",
    "# Create a MultiPoint object of  our points 1,2, and 3\n",
    "multi_point = MultiPoint([point1, point2, point3])\n",
    "\n",
    "# It is also possible to pass coordinate tuples inside\n",
    "multi_point2 = MultiPoint([(2.2, 4.2), (7.2, -25.1), (9.26, -2.456)])\n",
    "\n",
    "# We can also create a MultiLineString with two lines\n",
    "line_1 = LineString([point1, point2])\n",
    "\n",
    "line_2 = LineString([point2, point3])\n",
    "\n",
    "multi_line = MultiLineString([line_1, line_2])\n",
    "\n",
    "# MultiPolygon can b done in a similar manner\n",
    "# Let's divide our world into western and eastern hemispheres with a hole on the western hemisphere\n",
    "# ----------------------------------------------------------------------------------------------\n",
    "# Let's create the exterior of the western part of the world\n",
    "\n",
    "west_exterior = [(-180, 90), (-180, -90), (0, -90), (0, 90)]\n",
    "\n",
    "# Let's create a hole --> remember there can be multiple holes, thus we need to have a list of hole(s).\n",
    "# Here we have just one.\n",
    "west_hole = [[(-170, 80), (-170, -80), (-10, -80), (-10, 80)]]\n",
    "\n",
    "west_poly = Polygon(shell=west_exterior, holes=west_hole)\n",
    "\n",
    "# Let's create the Polygon of our Eastern hemisphere polygon using bounding box\n",
    "# For bounding box we need to specify the lower-left corner coordinates and upper-right coordinates\n",
    "\n",
    "min_x, min_y = 0, -90\n",
    "max_x, max_y = 180, 90\n",
    "\n",
    "# create the polygon using the box function\n",
    "\n",
    "east_poly_box = box(minx=min_x, miny=min_y, maxx=max_x, maxy=max_y)\n",
    "\n",
    "# Let's create our MultiPolygon. We can pass multiple Polygon -objects into our MultiPolygon as a list\n",
    "multi_poly = MultiPolygon([west_poly, east_poly_box])\n",
    "\n",
    "print(\"MultiPoint:\", multi_point)\n",
    "print(\"MultiLine:\", multi_line)\n",
    "print(\"BoundingBox:\", east_poly_box)\n",
    "print(\"MultiPoly:\", multi_poly)\n"
   ]
  },
  {
   "cell_type": "code",
   "execution_count": 31,
   "metadata": {},
   "outputs": [
    {
     "name": "stdout",
     "output_type": "stream",
     "text": [
      "Convex hull of the points:  POLYGON ((7.2 -25.1, 2.2 4.2, 9.26 -2.456, 7.2 -25.1))\nNumber of lines in MultiLineString: 2\nArea of our MultiPolygon: 39200.0\nArea of our Western Hemisphere polygon: 6800.0\nIs polygon valid?:  False\n"
     ]
    }
   ],
   "source": [
    "# Convex Hull of our MultiPoint --> https://en.wikipedia.org/wiki/Convex_hull\n",
    "convex = multi_point.convex_hull\n",
    "\n",
    "# How many lines do we have inside our MultiLineString?\n",
    "lines_count = len(multi_line)\n",
    "\n",
    "# Let's calculate the area of our MultiPolygon\n",
    "multi_poly_area = multi_poly.area\n",
    "\n",
    "# We can also access different items inside our geometry collections. We can e.g. access a single polygon from\n",
    "# our MultiPolygon -object by referring to the index\n",
    "# Let's calculate the area of our Western hemisphere (with a hole) which is at index 0\n",
    "west_area = multi_poly[0].area\n",
    "\n",
    "# We can check if we have a \"valid\" MultiPolygon. MultiPolygon is thought as valid if the individual polygons\n",
    "# does notintersect with each other. Here, because the polygons have a common 0-meridian, we should NOT have\n",
    "# a valid polygon. This can be really useful information when trying to find topological errors from your data\n",
    "valid = multi_poly.is_valid\n",
    "\n",
    "print(\"Convex hull of the points: \", convex)\n",
    "print(\"Number of lines in MultiLineString:\", lines_count)\n",
    "print(\"Area of our MultiPolygon:\", multi_poly_area)\n",
    "print(\"Area of our Western Hemisphere polygon:\", west_area)\n",
    "print(\"Is polygon valid?: \", valid)"
   ]
  }
 ],
 "metadata": {
  "kernelspec": {
   "display_name": "Python 2",
   "language": "python",
   "name": "python2"
  },
  "language_info": {
   "codemirror_mode": {
    "name": "ipython",
    "version": 2
   },
   "file_extension": ".py",
   "mimetype": "text/x-python",
   "name": "python",
   "nbconvert_exporter": "python",
   "pygments_lexer": "ipython2",
   "version": "2.7.6"
  }
 },
 "nbformat": 4,
 "nbformat_minor": 0
}
